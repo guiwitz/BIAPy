{
 "cells": [
  {
   "cell_type": "code",
   "execution_count": 1,
   "metadata": {},
   "outputs": [],
   "source": [
    "import os, re, glob"
   ]
  },
  {
   "cell_type": "markdown",
   "metadata": {},
   "source": [
    "## Collect notebooks from regular branch"
   ]
  },
  {
   "cell_type": "code",
   "execution_count": 2,
   "metadata": {},
   "outputs": [],
   "source": [
    "notebooks_or = glob.glob('/Users/gw18g940/OneDrive - Universitaet Bern/Courses/BiaPy/BIAPy/*.ipynb')\n"
   ]
  },
  {
   "cell_type": "markdown",
   "metadata": {},
   "source": [
    "## Find which packages to add in each notebook by looking for \"special\" packages"
   ]
  },
  {
   "cell_type": "code",
   "execution_count": 3,
   "metadata": {},
   "outputs": [],
   "source": [
    "external_packages = ['aicsimageio','ipyvolume','mrc','trackpy','stardist','cellpose']\n",
    "new_packages = []\n",
    "for noteb in notebooks_or:\n",
    "    with open(noteb) as n:\n",
    "        all_lines = n.readlines()\n",
    "        to_add = []\n",
    "        for a in all_lines:\n",
    "            if len(a) < 1000:\n",
    "                for e in external_packages:\n",
    "                    if a.find(e) > 0:\n",
    "                        if e not in to_add:\n",
    "                            to_add.append(e)\n",
    "    new_packages.append(to_add)\n",
    "\n"
   ]
  },
  {
   "cell_type": "markdown",
   "metadata": {},
   "source": [
    "## Define basic cells to add to notebook"
   ]
  },
  {
   "cell_type": "code",
   "execution_count": 19,
   "metadata": {},
   "outputs": [],
   "source": [
    "drive_import = \"\"\"  {\n",
    "   \"cell_type\": \"code\",\n",
    "   \"execution_count\": null,\n",
    "   \"metadata\": {},\n",
    "   \"outputs\": [],\n",
    "   \"source\": [\n",
    "    \"from google.colab import drive\\\\n\",\n",
    "    \"drive.mount('/content/drive')\"\n",
    "   ]\n",
    "  },\\n\"\"\"\n",
    "\n",
    "bash_cell = \"\"\"  {\n",
    "   \"cell_type\": \"code\",\n",
    "   \"execution_count\": null,\n",
    "   \"metadata\": {},\n",
    "   \"outputs\": [],\n",
    "   \"source\": [\n",
    "    \"%%bash\\\\n\",\n",
    "    \"wget https://raw.githubusercontent.com/guiwitz/BIAPy/master/course_functions.py\"\"\"\n"
   ]
  },
  {
   "cell_type": "markdown",
   "metadata": {},
   "source": [
    "## Define where to save new notebooks (colab branch)"
   ]
  },
  {
   "cell_type": "code",
   "execution_count": 5,
   "metadata": {},
   "outputs": [],
   "source": [
    "newpath = '/Users/gw18g940/OneDrive - Universitaet Bern/Courses/BiaPy/BIAPy_colab/BIAPy/'"
   ]
  },
  {
   "cell_type": "markdown",
   "metadata": {},
   "source": [
    "## Add Google drive import and package installation to each notebook"
   ]
  },
  {
   "cell_type": "code",
   "execution_count": 21,
   "metadata": {},
   "outputs": [
    {
     "name": "stdout",
     "output_type": "stream",
     "text": [
      "/Users/gw18g940/OneDrive - Universitaet Bern/Courses/BiaPy/BIAPy/06-Binary_operations.ipynb\n",
      "/Users/gw18g940/OneDrive - Universitaet Bern/Courses/BiaPy/BIAPy/14-PyImageJ.ipynb\n",
      "/Users/gw18g940/OneDrive - Universitaet Bern/Courses/BiaPy/BIAPy/11-3D_image_processing.ipynb\n",
      "/Users/gw18g940/OneDrive - Universitaet Bern/Courses/BiaPy/BIAPy/13-ML_based_segmentation.ipynb\n",
      "/Users/gw18g940/OneDrive - Universitaet Bern/Courses/BiaPy/BIAPy/03-Matplotlib_images.ipynb\n",
      "/Users/gw18g940/OneDrive - Universitaet Bern/Courses/BiaPy/BIAPy/07-Packaging_code.ipynb\n",
      "/Users/gw18g940/OneDrive - Universitaet Bern/Courses/BiaPy/BIAPy/08-Time_lapse_tracking.ipynb\n",
      "/Users/gw18g940/OneDrive - Universitaet Bern/Courses/BiaPy/BIAPy/05-Filtering_thresholding.ipynb\n",
      "/Users/gw18g940/OneDrive - Universitaet Bern/Courses/BiaPy/BIAPy/09-Pattern_matching.ipynb\n",
      "/Users/gw18g940/OneDrive - Universitaet Bern/Courses/BiaPy/BIAPy/04-Image_import.ipynb\n",
      "/Users/gw18g940/OneDrive - Universitaet Bern/Courses/BiaPy/BIAPy/02-Numpy_images.ipynb\n",
      "/Users/gw18g940/OneDrive - Universitaet Bern/Courses/BiaPy/BIAPy/01-Python_bare_minimum.ipynb\n",
      "/Users/gw18g940/OneDrive - Universitaet Bern/Courses/BiaPy/BIAPy/10-Watershed.ipynb\n",
      "/Users/gw18g940/OneDrive - Universitaet Bern/Courses/BiaPy/BIAPy/00-Index.ipynb\n",
      "/Users/gw18g940/OneDrive - Universitaet Bern/Courses/BiaPy/BIAPy/12-Registration.ipynb\n"
     ]
    }
   ],
   "source": [
    "for ind, n in enumerate(notebooks_or):\n",
    "    print(n)\n",
    "    fh = newpath + n.split('/')[-1]\n",
    "    counter = 0\n",
    "    \n",
    "    package_cell = bash_cell\n",
    "    if len(new_packages[ind])==0:\n",
    "        package_cell += \"\"\"\\\"\\n\"\"\"\n",
    "    else:\n",
    "        package_cell += \"\"\"\\\\n\",\\n\"\"\"\n",
    "    for p in range(len(new_packages[ind])):\n",
    "        package_cell += \"\"\"    \"pip install \"\"\"+new_packages[ind][p]\n",
    "        if p<len(new_packages[ind])-1:\n",
    "            package_cell += \"\"\"\\\\n\",\\n\"\"\"\n",
    "        else:\n",
    "            package_cell += \"\"\"\"\\n\"\"\"\n",
    "    package_cell += \"\"\"   ]\\n  },\\n\"\"\"\n",
    "\n",
    "\n",
    "    with open(fh,'w') as new_file:\n",
    "        with open(n) as old_file:\n",
    "            for line in old_file:\n",
    "                if counter == 2:\n",
    "                    new_file.write(drive_import)\n",
    "                    new_file.write(package_cell)\n",
    "                if len(line) < 1000:\n",
    "                    find_data = re.findall('.*\\.\\.\\/Data.*', line)\n",
    "                    if len(find_data) > 0:\n",
    "                        new_file.write(line.replace('../Data', '/content/drive/My Drive/Data'))\n",
    "                    else:\n",
    "                        new_file.write(line)\n",
    "                else:\n",
    "                    new_file.write(line)\n",
    "                counter +=1\n"
   ]
  },
  {
   "cell_type": "code",
   "execution_count": null,
   "metadata": {},
   "outputs": [],
   "source": []
  }
 ],
 "metadata": {
  "kernelspec": {
   "display_name": "Python 3",
   "language": "python",
   "name": "python3"
  },
  "language_info": {
   "codemirror_mode": {
    "name": "ipython",
    "version": 3
   },
   "file_extension": ".py",
   "mimetype": "text/x-python",
   "name": "python",
   "nbconvert_exporter": "python",
   "pygments_lexer": "ipython3",
   "version": "3.7.6"
  },
  "toc": {
   "base_numbering": 1,
   "nav_menu": {},
   "number_sections": false,
   "sideBar": true,
   "skip_h1_title": false,
   "title_cell": "Table of Contents",
   "title_sidebar": "Contents",
   "toc_cell": false,
   "toc_position": {},
   "toc_section_display": true,
   "toc_window_display": true
  }
 },
 "nbformat": 4,
 "nbformat_minor": 4
}
