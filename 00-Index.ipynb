{
 "cells": [
  {
   "cell_type": "markdown",
   "metadata": {},
   "source": [
    "# Image processing with Python: Table of contents\n",
    "#### **Guillaume Witz**, Science IT Support, Bern University"
   ]
  },
  {
   "cell_type": "markdown",
   "metadata": {},
   "source": [
    "## Course\n",
    "\n",
    "### [1. Python Bacics](01-Python_basics.ipynb)\n",
    "\n",
    "### [2. Functions](02-Functions.ipynb)\n",
    "\n",
    "### [3. Modules](03-Modules.ipynb)\n",
    "\n",
    "### [4. Structures](04-Structures.ipynb)\n",
    "\n",
    "### [5. Loops and conditions](05-Loops_conditions.ipynb)\n",
    "\n",
    "### [6. Numpy basics](06-Numpy_basics.ipynb)\n",
    "\n",
    "### [7. Images](07-Images.ipynb)\n",
    "\n",
    "### [8. Slicing and indexing images](08-Slicing_indexing.ipynb)\n",
    "\n",
    "### [9. Thresholding](09-Thresholding.ipynb)\n",
    "\n",
    "### [10. Morphological operations](10-Morphology.ipynb)\n",
    "\n",
    "### [Cheatsheet](Cheatsheet.ipynb)\n",
    "\n",
    "## Exercises\n",
    "\n",
    "### [1. Python Bacics](e01-Python_basics.ipynb)\n",
    "\n",
    "### [2. Functions](e02-Functions.ipynb)\n",
    "\n",
    "### [4. Structures](e04-Structures.ipynb)\n",
    "\n",
    "### [5. Loops and conditions](e05-Loops_conditions.ipynb)\n",
    "\n",
    "### [6. Numpy basics](e06-Numpy_basics.ipynb)\n",
    "\n",
    "### [7. Images, slicing, indexing](e0708-Images.ipynb)\n",
    "\n",
    "### [8. Thresholding](e09-Thresholding.ipynb)\n",
    "\n",
    "### [9. Morphology](e10-Morphology.ipynb)\n"
   ]
  },
  {
   "cell_type": "code",
   "execution_count": null,
   "metadata": {},
   "outputs": [],
   "source": []
  }
 ],
 "metadata": {
  "anaconda-cloud": {},
  "kernelspec": {
   "display_name": "Python 3",
   "language": "python",
   "name": "python3"
  },
  "language_info": {
   "codemirror_mode": {
    "name": "ipython",
    "version": 3
   },
   "file_extension": ".py",
   "mimetype": "text/x-python",
   "name": "python",
   "nbconvert_exporter": "python",
   "pygments_lexer": "ipython3",
   "version": "3.6.7"
  },
  "toc": {
   "base_numbering": 1,
   "nav_menu": {},
   "number_sections": false,
   "sideBar": true,
   "skip_h1_title": false,
   "title_cell": "Table of Contents",
   "title_sidebar": "Contents",
   "toc_cell": false,
   "toc_position": {},
   "toc_section_display": true,
   "toc_window_display": true
  }
 },
 "nbformat": 4,
 "nbformat_minor": 2
}
